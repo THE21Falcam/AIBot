{
  "nbformat": 4,
  "nbformat_minor": 0,
  "metadata": {
    "colab": {
      "provenance": [],
      "authorship_tag": "ABX9TyPv3mFamHVPge0xpQmzevLv",
      "include_colab_link": true
    },
    "kernelspec": {
      "name": "python3",
      "display_name": "Python 3"
    },
    "language_info": {
      "name": "python"
    }
  },
  "cells": [
    {
      "cell_type": "markdown",
      "metadata": {
        "id": "view-in-github",
        "colab_type": "text"
      },
      "source": [
        "<a href=\"https://colab.research.google.com/github/THE21Falcam/AIBot/blob/main/AISchool.ipynb\" target=\"_parent\"><img src=\"https://colab.research.google.com/assets/colab-badge.svg\" alt=\"Open In Colab\"/></a>"
      ]
    },
    {
      "cell_type": "code",
      "execution_count": null,
      "metadata": {
        "id": "ElG2azkQSixE"
      },
      "outputs": [],
      "source": [
        "import streamlit as st\n",
        "from google import genai\n",
        "from google.genai import types"
      ]
    },
    {
      "cell_type": "code",
      "source": [
        "st.set_page_config(page_title=\"AI Teacher & Adventure\", layout=\"centered\")\n",
        "st.title(\"🎓 AI Teacher & Text Adventure Game\")"
      ],
      "metadata": {
        "id": "PNt7GHZ9aA6o"
      },
      "execution_count": null,
      "outputs": []
    },
    {
      "cell_type": "code",
      "source": [
        "if \"chat\" not in st.session_state:\n",
        "    st.session_state.chat = None\n",
        "if \"messages\" not in st.session_state:\n",
        "    st.session_state.messages = []\n",
        "if \"language_submitted\" not in st.session_state:\n",
        "    st.session_state.language_submitted = False\n",
        "if \"user_input\" not in st.session_state:\n",
        "    st.session_state.user_input = \"\""
      ],
      "metadata": {
        "id": "fBtUbxGMaCoQ"
      },
      "execution_count": null,
      "outputs": []
    },
    {
      "cell_type": "code",
      "source": [
        "api_key = st.text_input(\"🔑 Enter your Google Gemini API Key\", type=\"password\")\n",
        "\n",
        "if api_key:\n",
        "    try:\n",
        "        # Initialize Gemini client\n",
        "        client = genai.Client(api_key=api_key)\n",
        "        grounding_tool = types.Tool(google_search=types.GoogleSearch())\n",
        "        config = types.GenerateContentConfig(tools=[grounding_tool])\n",
        "\n",
        "        # Create chat session once\n",
        "        if st.session_state.chat is None:\n",
        "            st.session_state.chat = client.chats.create(\n",
        "                model='gemini-2.0-flash',\n",
        "                config=config\n",
        "            )\n",
        "\n",
        "        # --- Ask for Language ---\n",
        "        if not st.session_state.language_submitted:\n",
        "            language = st.text_input(\"🌐 Enter the language you prefer\", key=\"lang_input\")\n",
        "            if language:\n",
        "                st.session_state.language_submitted = True\n",
        "                st.session_state.language = language\n",
        "\n",
        "                # Initial prompt to Gemini\n",
        "                initial_prompt = (\n",
        "                    f\"You are the Teacher of the Future. You want to understand each student deeply, \"\n",
        "                    f\"identify their weak points, and assist their learning. Generate 5 brief questions in {language} \"\n",
        "                    f\"across different fields of education. Show one question at a time (wait for an answer before giving the next). \"\n",
        "                    f\"After the 5th answer, analyze all answers and give feedback to the student’s parents. Then, start a Text-Based Adventure \"\n",
        "                    f\"Game with many chapters, each having 4 quests. Ask the student to explain their choices. After each chapter, evaluate their interaction, \"\n",
        "                    f\"assign experience points based on reasoning, and calculate level. Show the level when asked.\"\n",
        "                )\n",
        "\n",
        "                response = st.session_state.chat.send_message(initial_prompt)\n",
        "                st.session_state.messages.append((\"Gemini\", response.text))\n",
        "                st.rerun()\n",
        "\n",
        "        # --- Display Chat Messages ---\n",
        "        for role, message in st.session_state.messages:\n",
        "            st.markdown(f\"**{role}:** {message}\")\n",
        "\n",
        "        # --- User Input Callback Function ---\n",
        "        def handle_user_input():\n",
        "            user_input = st.session_state.user_input.strip()\n",
        "            if user_input:\n",
        "                response = st.session_state.chat.send_message(user_input)\n",
        "                st.session_state.messages.append((\"You\", user_input))\n",
        "                st.session_state.messages.append((\"Gemini\", response.text))\n",
        "            # Clear input safely after submission\n",
        "            st.session_state.user_input = \"\"\n",
        "\n",
        "        # --- Display Input Box (Only after language is submitted) ---\n",
        "        if st.session_state.language_submitted:\n",
        "            st.text_input(\n",
        "                \"✏️ Your response\",\n",
        "                key=\"user_input\",\n",
        "                on_change=handle_user_input,\n",
        "                placeholder=\"Type your answer or question and press Enter\"\n",
        "            )\n",
        "\n",
        "    except Exception as e:\n",
        "        st.error(f\"❌ Error: {e}\")\n",
        "else:\n",
        "    st.info(\"Please enter your Google Gemini API key to begin.\")"
      ],
      "metadata": {
        "id": "yPg0zyPfaH0O"
      },
      "execution_count": null,
      "outputs": []
    }
  ]
}